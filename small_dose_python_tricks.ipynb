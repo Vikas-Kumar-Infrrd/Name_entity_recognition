{
 "cells": [
  {
   "cell_type": "code",
   "execution_count": 1,
   "metadata": {},
   "outputs": [
    {
     "name": "stdout",
     "output_type": "stream",
     "text": [
      "The type of an empty zip :  <class 'zip'>\n",
      "\n",
      "Printing the values of zip\n",
      "('Alpha', 'one')\n",
      "('Beta', 'two')\n",
      "('Gamma', 'three')\n",
      "('Sigma', 'six')\n"
     ]
    }
   ],
   "source": [
    "test = zip()\n",
    "\n",
    "# referring a zip class\n",
    "print('The type of an empty zip : ', type(test))\n",
    "\n",
    "list1 = ['Alpha', 'Beta', 'Gamma', 'Sigma']\n",
    "list2 = ['one', 'two', 'three', 'six']\n",
    "\n",
    "test = zip(list1, list2)  # zip the values\n",
    "\n",
    "print('\\nPrinting the values of zip')\n",
    "for values in test:\n",
    "    print(values)  # print each tuples"
   ]
  },
  {
   "cell_type": "markdown",
   "metadata": {},
   "source": [
    "    So zip is a class: Python zip is a container that holds real data inside. Python zip function takes iterable elements as input, and returns iterator. If python zip function gets no iterable elements, it returns an empty iterator"
   ]
  },
  {
   "cell_type": "code",
   "execution_count": 8,
   "metadata": {},
   "outputs": [
    {
     "name": "stdout",
     "output_type": "stream",
     "text": [
      "a \r\n",
      " a\n"
     ]
    }
   ],
   "source": [
    "print('a \\r\\n a')"
   ]
  },
  {
   "cell_type": "code",
   "execution_count": null,
   "metadata": {},
   "outputs": [],
   "source": []
  }
 ],
 "metadata": {
  "kernelspec": {
   "display_name": "Python 3",
   "language": "python",
   "name": "python3"
  },
  "language_info": {
   "codemirror_mode": {
    "name": "ipython",
    "version": 3
   },
   "file_extension": ".py",
   "mimetype": "text/x-python",
   "name": "python",
   "nbconvert_exporter": "python",
   "pygments_lexer": "ipython3",
   "version": "3.6.5"
  }
 },
 "nbformat": 4,
 "nbformat_minor": 2
}
