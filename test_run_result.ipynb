{
 "cells": [
  {
   "cell_type": "code",
   "execution_count": 1,
   "metadata": {},
   "outputs": [
    {
     "name": "stdout",
     "output_type": "stream",
     "text": [
      "/home/user/Downloads\n"
     ]
    }
   ],
   "source": [
    "cd /home/user/Downloads/"
   ]
  },
  {
   "cell_type": "code",
   "execution_count": 2,
   "metadata": {},
   "outputs": [],
   "source": [
    "filename1 = 'Xpenditure Validation Runs Continued... - 1.csv'\n",
    "filename2 = 'Xpenditure Validation Runs Continued... - 2.csv'\n",
    "filename3 = 'Xpenditure Validation Runs Continued... - 3.csv'\n",
    "filename4 = 'Xpenditure Validation Runs Continued... - 4.csv'\n",
    "filename5 = 'Xpenditure Validation Runs Continued... - 5.csv'\n",
    "filename6 = 'Xpenditure Validation Runs Continued... - 6.csv'\n",
    "filename7 = 'Xpenditure Validation Runs Continued... - 7.csv'\n",
    "filename8 = 'Xpenditure Validation Runs Continued... - 8.csv'\n",
    "filename9 = 'Xpenditure Validation Runs Continued... - 9.csv'\n",
    "filename10 = 'Xpenditure Validation Runs Continued... - 10.csv'"
   ]
  },
  {
   "cell_type": "code",
   "execution_count": 3,
   "metadata": {},
   "outputs": [],
   "source": [
    "import pandas as pd\n",
    "import numpy as np"
   ]
  },
  {
   "cell_type": "code",
   "execution_count": 25,
   "metadata": {},
   "outputs": [],
   "source": [
    "df1 = pd.read_csv(filename1,header=1,nrows=50)\n",
    "df2 = pd.read_csv(filename2,header=1,nrows=50)\n",
    "df3 = pd.read_csv(filename3,header=1,nrows=50)\n",
    "df4 = pd.read_csv(filename4,header=1,nrows=50)\n",
    "df5 = pd.read_csv(filename5,header=1,nrows=50)\n",
    "df6 = pd.read_csv(filename6,header=1,nrows=50)\n",
    "df7 = pd.read_csv(filename7,header=1,nrows=50)\n",
    "df8 = pd.read_csv(filename8,header=1,nrows=50)\n",
    "df9 = pd.read_csv(filename9,header=1,nrows=50)\n",
    "df10 = pd.read_csv(filename10,header=1,nrows=50)"
   ]
  },
  {
   "cell_type": "code",
   "execution_count": 26,
   "metadata": {},
   "outputs": [
    {
     "data": {
      "text/html": [
       "<div>\n",
       "<style scoped>\n",
       "    .dataframe tbody tr th:only-of-type {\n",
       "        vertical-align: middle;\n",
       "    }\n",
       "\n",
       "    .dataframe tbody tr th {\n",
       "        vertical-align: top;\n",
       "    }\n",
       "\n",
       "    .dataframe thead th {\n",
       "        text-align: right;\n",
       "    }\n",
       "</style>\n",
       "<table border=\"1\" class=\"dataframe\">\n",
       "  <thead>\n",
       "    <tr style=\"text-align: right;\">\n",
       "      <th></th>\n",
       "      <th>totalbillamount</th>\n",
       "      <th>totalbillamountextracted</th>\n",
       "      <th>totalbillamountstatus</th>\n",
       "      <th>expectedbillingamountconfidence</th>\n",
       "      <th>extractedbillingamountconfidence</th>\n",
       "      <th>billingamountconfidencestatus</th>\n",
       "      <th>billingdate</th>\n",
       "      <th>billingdateextracted</th>\n",
       "      <th>billingdatestatus</th>\n",
       "      <th>expectedbillingdateconfidence</th>\n",
       "      <th>...</th>\n",
       "      <th>currencyextracted</th>\n",
       "      <th>expectedcurrencyconfidence</th>\n",
       "      <th>extractedcurrencyconfidence</th>\n",
       "      <th>currencyconfidencestatus</th>\n",
       "      <th>triconfidencestatus</th>\n",
       "      <th>Unnamed: 23</th>\n",
       "      <th>scanRequestId</th>\n",
       "      <th>s3imagepath</th>\n",
       "      <th>receiptname</th>\n",
       "      <th>extraction</th>\n",
       "    </tr>\n",
       "  </thead>\n",
       "  <tbody>\n",
       "    <tr>\n",
       "      <th>45</th>\n",
       "      <td>91.66</td>\n",
       "      <td>91.66</td>\n",
       "      <td>True</td>\n",
       "      <td>1</td>\n",
       "      <td>1</td>\n",
       "      <td>True</td>\n",
       "      <td>2018-03-16</td>\n",
       "      <td>2018-03-16</td>\n",
       "      <td>True</td>\n",
       "      <td>1</td>\n",
       "      <td>...</td>\n",
       "      <td>eur</td>\n",
       "      <td>1</td>\n",
       "      <td>1</td>\n",
       "      <td>True</td>\n",
       "      <td>False</td>\n",
       "      <td>1</td>\n",
       "      <td>4c7546ed-cf1f-4f99-879a-d7d8b7600a21</td>\n",
       "      <td>http://s3-us-west-2.amazonaws.com/gimlet-stagi...</td>\n",
       "      <td>6b6c7dcb-5002-485a-ac14-f7e71d2e9d02_image.jpg</td>\n",
       "      <td>EXTRACTED</td>\n",
       "    </tr>\n",
       "    <tr>\n",
       "      <th>46</th>\n",
       "      <td>66.35</td>\n",
       "      <td>69.66</td>\n",
       "      <td>False</td>\n",
       "      <td>0</td>\n",
       "      <td>1</td>\n",
       "      <td>False</td>\n",
       "      <td>2018-05-12</td>\n",
       "      <td>2018-05-12</td>\n",
       "      <td>True</td>\n",
       "      <td>1</td>\n",
       "      <td>...</td>\n",
       "      <td>$</td>\n",
       "      <td>1</td>\n",
       "      <td>1</td>\n",
       "      <td>True</td>\n",
       "      <td>False</td>\n",
       "      <td>0</td>\n",
       "      <td>a06b0c12-f94f-454c-8d29-30d4f5e363e0</td>\n",
       "      <td>http://s3-us-west-2.amazonaws.com/gimlet-stagi...</td>\n",
       "      <td>6c20d631-7a0c-40b5-a895-2336d506b946_image.jpg</td>\n",
       "      <td>EXTRACTED</td>\n",
       "    </tr>\n",
       "    <tr>\n",
       "      <th>47</th>\n",
       "      <td>9.00</td>\n",
       "      <td>9.00</td>\n",
       "      <td>True</td>\n",
       "      <td>1</td>\n",
       "      <td>0</td>\n",
       "      <td>False</td>\n",
       "      <td>2018-05-14</td>\n",
       "      <td>2018-05-14</td>\n",
       "      <td>True</td>\n",
       "      <td>1</td>\n",
       "      <td>...</td>\n",
       "      <td>eur</td>\n",
       "      <td>1</td>\n",
       "      <td>1</td>\n",
       "      <td>True</td>\n",
       "      <td>False</td>\n",
       "      <td>1</td>\n",
       "      <td>c0dfd1c0-4dd4-47ec-8404-dfec5e923279</td>\n",
       "      <td>http://s3-us-west-2.amazonaws.com/gimlet-stagi...</td>\n",
       "      <td>6cdcb4cc-d4f3-4395-a009-23872c8e9886_image.jpg</td>\n",
       "      <td>EXTRACTED</td>\n",
       "    </tr>\n",
       "    <tr>\n",
       "      <th>48</th>\n",
       "      <td>7.00</td>\n",
       "      <td>7.00</td>\n",
       "      <td>True</td>\n",
       "      <td>1</td>\n",
       "      <td>1</td>\n",
       "      <td>True</td>\n",
       "      <td>2018-05-22</td>\n",
       "      <td>2018-05-22</td>\n",
       "      <td>True</td>\n",
       "      <td>1</td>\n",
       "      <td>...</td>\n",
       "      <td>$</td>\n",
       "      <td>1</td>\n",
       "      <td>1</td>\n",
       "      <td>True</td>\n",
       "      <td>False</td>\n",
       "      <td>1</td>\n",
       "      <td>88d9e82e-18df-4009-927d-9ce89ab23c20</td>\n",
       "      <td>http://s3-us-west-2.amazonaws.com/gimlet-stagi...</td>\n",
       "      <td>70698716-a25c-4bc7-b018-a85a1677b33d_image.jpg</td>\n",
       "      <td>EXTRACTED</td>\n",
       "    </tr>\n",
       "    <tr>\n",
       "      <th>49</th>\n",
       "      <td>219.85</td>\n",
       "      <td>43.00</td>\n",
       "      <td>False</td>\n",
       "      <td>0</td>\n",
       "      <td>1</td>\n",
       "      <td>False</td>\n",
       "      <td>2018-05-10</td>\n",
       "      <td>2018-05-06</td>\n",
       "      <td>False</td>\n",
       "      <td>0</td>\n",
       "      <td>...</td>\n",
       "      <td>$</td>\n",
       "      <td>1</td>\n",
       "      <td>1</td>\n",
       "      <td>True</td>\n",
       "      <td>False</td>\n",
       "      <td>0</td>\n",
       "      <td>09cf9d06-a939-4434-b964-399b8a1bded3</td>\n",
       "      <td>http://s3-us-west-2.amazonaws.com/gimlet-stagi...</td>\n",
       "      <td>70f13ffc-8293-4e43-9897-ac29851fdca6_image.jpg</td>\n",
       "      <td>EXTRACTED</td>\n",
       "    </tr>\n",
       "  </tbody>\n",
       "</table>\n",
       "<p>5 rows × 28 columns</p>\n",
       "</div>"
      ],
      "text/plain": [
       "    totalbillamount  totalbillamountextracted  totalbillamountstatus  \\\n",
       "45            91.66                     91.66                   True   \n",
       "46            66.35                     69.66                  False   \n",
       "47             9.00                      9.00                   True   \n",
       "48             7.00                      7.00                   True   \n",
       "49           219.85                     43.00                  False   \n",
       "\n",
       "    expectedbillingamountconfidence  extractedbillingamountconfidence  \\\n",
       "45                                1                                 1   \n",
       "46                                0                                 1   \n",
       "47                                1                                 0   \n",
       "48                                1                                 1   \n",
       "49                                0                                 1   \n",
       "\n",
       "    billingamountconfidencestatus billingdate billingdateextracted  \\\n",
       "45                           True  2018-03-16           2018-03-16   \n",
       "46                          False  2018-05-12           2018-05-12   \n",
       "47                          False  2018-05-14           2018-05-14   \n",
       "48                           True  2018-05-22           2018-05-22   \n",
       "49                          False  2018-05-10           2018-05-06   \n",
       "\n",
       "   billingdatestatus  expectedbillingdateconfidence     ...      \\\n",
       "45              True                              1     ...       \n",
       "46              True                              1     ...       \n",
       "47              True                              1     ...       \n",
       "48              True                              1     ...       \n",
       "49             False                              0     ...       \n",
       "\n",
       "    currencyextracted  expectedcurrencyconfidence  \\\n",
       "45                eur                           1   \n",
       "46                  $                           1   \n",
       "47                eur                           1   \n",
       "48                  $                           1   \n",
       "49                  $                           1   \n",
       "\n",
       "    extractedcurrencyconfidence currencyconfidencestatus  triconfidencestatus  \\\n",
       "45                            1                     True                False   \n",
       "46                            1                     True                False   \n",
       "47                            1                     True                False   \n",
       "48                            1                     True                False   \n",
       "49                            1                     True                False   \n",
       "\n",
       "   Unnamed: 23                         scanRequestId  \\\n",
       "45           1  4c7546ed-cf1f-4f99-879a-d7d8b7600a21   \n",
       "46           0  a06b0c12-f94f-454c-8d29-30d4f5e363e0   \n",
       "47           1  c0dfd1c0-4dd4-47ec-8404-dfec5e923279   \n",
       "48           1  88d9e82e-18df-4009-927d-9ce89ab23c20   \n",
       "49           0  09cf9d06-a939-4434-b964-399b8a1bded3   \n",
       "\n",
       "                                          s3imagepath  \\\n",
       "45  http://s3-us-west-2.amazonaws.com/gimlet-stagi...   \n",
       "46  http://s3-us-west-2.amazonaws.com/gimlet-stagi...   \n",
       "47  http://s3-us-west-2.amazonaws.com/gimlet-stagi...   \n",
       "48  http://s3-us-west-2.amazonaws.com/gimlet-stagi...   \n",
       "49  http://s3-us-west-2.amazonaws.com/gimlet-stagi...   \n",
       "\n",
       "                                       receiptname  extraction  \n",
       "45  6b6c7dcb-5002-485a-ac14-f7e71d2e9d02_image.jpg   EXTRACTED  \n",
       "46  6c20d631-7a0c-40b5-a895-2336d506b946_image.jpg   EXTRACTED  \n",
       "47  6cdcb4cc-d4f3-4395-a009-23872c8e9886_image.jpg   EXTRACTED  \n",
       "48  70698716-a25c-4bc7-b018-a85a1677b33d_image.jpg   EXTRACTED  \n",
       "49  70f13ffc-8293-4e43-9897-ac29851fdca6_image.jpg   EXTRACTED  \n",
       "\n",
       "[5 rows x 28 columns]"
      ]
     },
     "execution_count": 26,
     "metadata": {},
     "output_type": "execute_result"
    }
   ],
   "source": [
    "df1.tail()"
   ]
  },
  {
   "cell_type": "code",
   "execution_count": 27,
   "metadata": {},
   "outputs": [],
   "source": [
    "df_all = pd.concat([df1,df2,df3,df4,df5,df6,df7,df8,df9,df10],ignore_index=True)"
   ]
  },
  {
   "cell_type": "code",
   "execution_count": 28,
   "metadata": {},
   "outputs": [
    {
     "data": {
      "text/plain": [
       "(500, 28)"
      ]
     },
     "execution_count": 28,
     "metadata": {},
     "output_type": "execute_result"
    }
   ],
   "source": [
    "df_all.shape"
   ]
  },
  {
   "cell_type": "code",
   "execution_count": 59,
   "metadata": {},
   "outputs": [],
   "source": [
    "billingdatestatus_stat = []\n",
    "for i in range(2000):\n",
    "    index = np.random.choice(500,100)\n",
    "    tmp = df_all.loc[index,'billingdatestatus']\n",
    "    tmp = tmp.dropna()\n",
    "    billingdatestatus_stat.append(sum(tmp))\n",
    "    "
   ]
  },
  {
   "cell_type": "code",
   "execution_count": 60,
   "metadata": {},
   "outputs": [],
   "source": [
    "from matplotlib import pyplot as plt"
   ]
  },
  {
   "cell_type": "code",
   "execution_count": 61,
   "metadata": {},
   "outputs": [
    {
     "data": {
      "text/plain": [
       "(array([  8.,  26.,  61., 197., 371., 643., 386., 224.,  61.,  23.]),\n",
       " array([49. , 52.2, 55.4, 58.6, 61.8, 65. , 68.2, 71.4, 74.6, 77.8, 81. ]),\n",
       " <a list of 10 Patch objects>)"
      ]
     },
     "execution_count": 61,
     "metadata": {},
     "output_type": "execute_result"
    },
    {
     "data": {
      "image/png": "[encoded data removed]",
      "text/plain": [
       "<Figure size 432x288 with 1 Axes>"
      ]
     },
     "metadata": {},
     "output_type": "display_data"
    }
   ],
   "source": [
    "plt.hist(billingdatestatus_stat)"
   ]
  },
  {
   "cell_type": "code",
   "execution_count": 57,
   "metadata": {},
   "outputs": [
    {
     "data": {
      "text/plain": [
       "(array([  2.,  18.,  66., 209., 388., 531., 452., 233.,  83.,  18.]),\n",
       " array([57., 60., 63., 66., 69., 72., 75., 78., 81., 84., 87.]),\n",
       " <a list of 10 Patch objects>)"
      ]
     },
     "execution_count": 57,
     "metadata": {},
     "output_type": "execute_result"
    },
    {
     "data": {
      "image/png": "[encoded data removed]",
      "text/plain": [
       "<Figure size 432x288 with 1 Axes>"
      ]
     },
     "metadata": {},
     "output_type": "display_data"
    }
   ],
   "source": [
    "totalbillamountstatus_stat = []\n",
    "for i in range(2000):\n",
    "    index = np.random.choice(500,100)\n",
    "    tmp = df_all.loc[index,'totalbillamountstatus']\n",
    "    tmp = tmp.dropna()\n",
    "    totalbillamountstatus_stat.append(sum(tmp))\n",
    "plt.hist(totalbillamountstatus_stat)"
   ]
  },
  {
   "cell_type": "code",
   "execution_count": 58,
   "metadata": {},
   "outputs": [
    {
     "data": {
      "text/plain": [
       "(array([  8.,  30.,  86., 221., 415., 662., 329., 171.,  64.,  14.]),\n",
       " array([18. , 21.2, 24.4, 27.6, 30.8, 34. , 37.2, 40.4, 43.6, 46.8, 50. ]),\n",
       " <a list of 10 Patch objects>)"
      ]
     },
     "execution_count": 58,
     "metadata": {},
     "output_type": "execute_result"
    },
    {
     "data": {
      "image/png": "[encoded data removed]",
      "text/plain": [
       "<Figure size 432x288 with 1 Axes>"
      ]
     },
     "metadata": {},
     "output_type": "display_data"
    }
   ],
   "source": [
    "triconfidencestatus_stat = []\n",
    "for i in range(2000):\n",
    "    index = np.random.choice(500,100)\n",
    "    tmp = df_all.loc[index,'triconfidencestatus']\n",
    "    tmp = tmp.dropna()\n",
    "    triconfidencestatus_stat.append(sum(tmp))\n",
    "plt.hist(triconfidencestatus_stat)"
   ]
  },
  {
   "cell_type": "code",
   "execution_count": 62,
   "metadata": {},
   "outputs": [
    {
     "data": {
      "text/plain": [
       "34.8775"
      ]
     },
     "execution_count": 62,
     "metadata": {},
     "output_type": "execute_result"
    }
   ],
   "source": [
    "np.mean(triconfidencestatus_stat)"
   ]
  },
  {
   "cell_type": "code",
   "execution_count": null,
   "metadata": {},
   "outputs": [],
   "source": []
  }
 ],
 "metadata": {
  "kernelspec": {
   "display_name": "Python 3",
   "language": "python",
   "name": "python3"
  },
  "language_info": {
   "codemirror_mode": {
    "name": "ipython",
    "version": 3
   },
   "file_extension": ".py",
   "mimetype": "text/x-python",
   "name": "python",
   "nbconvert_exporter": "python",
   "pygments_lexer": "ipython3",
   "version": "3.6.5"
  }
 },
 "nbformat": 4,
 "nbformat_minor": 2
}
